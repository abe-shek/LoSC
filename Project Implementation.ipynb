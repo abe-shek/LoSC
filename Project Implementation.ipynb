{
 "cells": [
  {
   "cell_type": "code",
   "execution_count": 581,
   "metadata": {},
   "outputs": [],
   "source": [
    "import numpy as np\n",
    "import decimal\n",
    "import matplotlib.pyplot as plt"
   ]
  },
  {
   "cell_type": "markdown",
   "metadata": {},
   "source": [
    "### Testing implementations MinHash "
   ]
  },
  {
   "cell_type": "code",
   "execution_count": 284,
   "metadata": {},
   "outputs": [
    {
     "name": "stdout",
     "output_type": "stream",
     "text": [
      "Actual jaccard similarity 0.3333333333333333\n"
     ]
    }
   ],
   "source": [
    "data1 = np.array([0, 1, 1, 0, 0, 1, 0, 1])\n",
    "data2 = np.array([0, 0, 1, 1, 0, 1, 1, 0])\n",
    "\n",
    "overlap = np.sum(data1[np.where(data1 == data2)[0]])\n",
    "rest = np.sum(data1[np.where(data1 != data2)[0]]) + np.sum(data2[np.where(data1 != data2)[0]])  \n",
    "\n",
    "jaccard_similarity = float(overlap)/float(overlap + rest)\n",
    "print(\"Actual jaccard similarity\", jaccard_similarity)"
   ]
  },
  {
   "cell_type": "code",
   "execution_count": 377,
   "metadata": {},
   "outputs": [],
   "source": [
    "max_hash_value = np.uint64((1 << 31) - 1)\n",
    "def init_hash(verbose=False):\n",
    "    seed = np.random.randint(1000)\n",
    "    gen = np.random.RandomState(seed)\n",
    "    c = np.uint64((1 << 31) - 1) # mersene_prime\n",
    "    a = gen.randint(1, c, dtype=np.uint64)\n",
    "    b = gen.randint(0, c, dtype=np.uint64)\n",
    "    if verbose:\n",
    "        print(\"a = {:d}, b = {:d}, c = {:d}\".format(a,b,c))\n",
    "    return a,b,c\n",
    "\n",
    "def hash_value_01(val, params):\n",
    "    a, b, c = params\n",
    "    return float((a*val + b)%c)/float(max_hash_value)"
   ]
  },
  {
   "cell_type": "code",
   "execution_count": 282,
   "metadata": {},
   "outputs": [],
   "source": [
    "for i in range(100000):\n",
    "    params = init_hash()\n",
    "    if hash_value_01(0, params) > 1:\n",
    "        print(\"Oops! Value greater than 1\", hash_value(0))\n",
    "        break"
   ]
  },
  {
   "cell_type": "code",
   "execution_count": 294,
   "metadata": {},
   "outputs": [
    {
     "name": "stdout",
     "output_type": "stream",
     "text": [
      "Mean of estimated JS = 0.2991\n",
      "Std. dev of estimated JS = 0.1182\n"
     ]
    }
   ],
   "source": [
    "k = 15\n",
    "js = []\n",
    "for i in range(100000):\n",
    "    minhash1 = [] \n",
    "    minhash2 = []\n",
    "    for i in range(k):\n",
    "        params = init_hash()\n",
    "        hash1 = []\n",
    "        for j in np.where(data1 == 1)[0]:\n",
    "            hash1.append(hash_value_01(j, params))\n",
    "\n",
    "        hash2 = []\n",
    "        for j in np.where(data2 == 1)[0]:\n",
    "            hash2.append(hash_value_01(j, params))\n",
    "\n",
    "        minhash1.append(min(hash1))\n",
    "        minhash2.append(min(hash2))\n",
    "    est_js = float(len(np.where(np.array(minhash1)==np.array(minhash2))[0]))/float(len(minhash1))\n",
    "    js.append(est_js)\n",
    "#     print(\"Estimated Jaccard Similarity = {:.4f}\".format(est_js))\n",
    "print(\"Mean of estimated JS = {:.4f}\".format(np.mean(js)))\n",
    "print(\"Std. dev of estimated JS = {:.4f}\".format(np.std(js)))"
   ]
  },
  {
   "cell_type": "markdown",
   "metadata": {},
   "source": [
    "### Implementations for Hash Functions - h, s, s_bar"
   ]
  },
  {
   "cell_type": "code",
   "execution_count": 445,
   "metadata": {},
   "outputs": [],
   "source": [
    "def hash_value_h(data, losc_params, ind, verbose=False):\n",
    "    assert(type(data) == np.ndarray)\n",
    "    if verbose:\n",
    "        print(losc_params.t_hash_h[ind], ind)\n",
    "    r_hash = []\n",
    "    for i in range(len(losc_params.r_hash_h)):\n",
    "        params = losc_params.r_hash_h[i]\n",
    "        hash_ = []\n",
    "        \n",
    "        for j in np.where(data == 1)[0]:\n",
    "            hash_.append(hash_value_01(j, params))\n",
    "            \n",
    "        r_hash.append(min(hash_) if len(hash_) else 0.0)\n",
    "        \n",
    "    val = (np.sum(losc_params.h_weights*r_hash) + 13)*len(r_hash) \n",
    "    hash_val = hash_value_01(val, losc_params.t_hash_h[ind])\n",
    "    if verbose:\n",
    "        print(hash_val)\n",
    "    return int(np.floor(hash_val*losc_params.b))%losc_params.b\n",
    "\n",
    "def hash_value_s(data, losc_params, ind, verbose=False):\n",
    "    assert(type(data) == np.ndarray)\n",
    "    if verbose:\n",
    "        print(losc_params.t_hash_s[ind], ind)\n",
    "    val = (np.sum(losc_params.s_weights*data) + 23)*len(data) \n",
    "    hash_val = hash_value_01(val, losc_params.t_hash_s[ind])\n",
    "    if verbose:\n",
    "        print(hash_val)\n",
    "    return 1 if hash_val >= 0.5 else -1\n",
    "\n",
    "def hash_value_s_bar(data, losc_params, ind, verbose=False):\n",
    "    assert(type(data) == np.ndarray)\n",
    "    if verbose:\n",
    "        print(losc_params.t_hash_h[ind], ind)\n",
    "    p_hash = []\n",
    "    for i in range(len(losc_params.l_hash_s_bar)):\n",
    "        params = losc_params.l_hash_s_bar[i]\n",
    "        hash_ = []\n",
    "        for j in np.where(data == 1)[0]:\n",
    "            hash_.append(hash_value_01(j, params))\n",
    "        p_hash.append(min(hash_) if len(hash_) else 0.0)\n",
    " \n",
    "    val = (np.sum(losc_params.s_bar_weights*p_hash) + 13)*len(p_hash) \n",
    "    hash_val = hash_value_01(val, losc_params.t_hash_s_bar[ind])\n",
    "    if verbose:\n",
    "        print(hash_val)\n",
    "    return 1 if hash_val >= 0.5 else -1"
   ]
  },
  {
   "cell_type": "code",
   "execution_count": 323,
   "metadata": {},
   "outputs": [
    {
     "name": "stdout",
     "output_type": "stream",
     "text": [
      "Mean, Std bucket count for hash function h = 10000.00000, 106.33532\n",
      "Bucket indices filled [10142, 9995, 10018, 10065, 9753, 9849, 10002, 9858, 10094, 10224]\n"
     ]
    }
   ],
   "source": [
    "test = np.array([0, 1, 1, 0, 0, 1, 0, 1])\n",
    "sum_ = 0\n",
    "r = 5\n",
    "b = 10\n",
    "r_weights = np.arange(1, r+1)\n",
    "np.random.shuffle(r_weights)\n",
    "bucket_cnt = [0]*b\n",
    "for i in range(100000):\n",
    "    params = init_hash(verbose=False)\n",
    "    ind = hash_value_h(test, r, b, r_weights, params)\n",
    "    bucket_cnt[ind] += 1\n",
    "    \n",
    "print(\"Mean, Std bucket count for hash function h = {:.5f}, {:.5f}\".format(np.mean(bucket_cnt), np.std(bucket_cnt)))\n",
    "print(\"Bucket indices filled\", bucket_ind)"
   ]
  },
  {
   "cell_type": "code",
   "execution_count": 324,
   "metadata": {},
   "outputs": [
    {
     "name": "stdout",
     "output_type": "stream",
     "text": [
      "Error in hash function s = 0.01268\n"
     ]
    }
   ],
   "source": [
    "test = np.array([0, 1, 1, 0, 0, 1, 0, 1])\n",
    "weights = np.arange(1, len(test)+1)\n",
    "np.random.shuffle(weights)\n",
    "sum_ = 0\n",
    "for i in range(100000):\n",
    "    params = init_hash(verbose=False)\n",
    "    sum_ += hash_value_s(test, weights, params)\n",
    "print(\"Error in hash function s = {:.5f}\".format(abs(sum_)/100000))"
   ]
  },
  {
   "cell_type": "code",
   "execution_count": 328,
   "metadata": {},
   "outputs": [
    {
     "name": "stdout",
     "output_type": "stream",
     "text": [
      "Error in hash function s_bar = 0.00556\n"
     ]
    }
   ],
   "source": [
    "test = np.array([0, 1, 1, 0, 0, 1, 0, 1])\n",
    "sum_ = 0\n",
    "l = 5\n",
    "l_weights = np.arange(1, l+1)\n",
    "np.random.shuffle(l_weights)\n",
    "for i in range(100000):\n",
    "    params = init_hash(verbose=False)\n",
    "    sum_ += hash_value_s_bar(test, l, l_weights, params)\n",
    "print(\"Error in hash function s_bar = {:.5f}\".format(abs(sum_)/100000))"
   ]
  },
  {
   "cell_type": "markdown",
   "metadata": {},
   "source": [
    "### LoSC implementation"
   ]
  },
  {
   "cell_type": "code",
   "execution_count": 602,
   "metadata": {},
   "outputs": [],
   "source": [
    "class LoSCParams:\n",
    "    def __init__(self, t=10, b=10, r=5, l=5, d=10):\n",
    "        self.b = b\n",
    "        self.t = t\n",
    "        self.r = r\n",
    "        self.l = l\n",
    "        self.d = d\n",
    "        self.t_hash_h = []\n",
    "        self.t_hash_s = []\n",
    "        self.t_hash_s_bar = []\n",
    "        self.r_hash_h = []\n",
    "        self.l_hash_s_bar = []\n",
    "        self.s_weights = []\n",
    "        self.s_bar_weights = []\n",
    "        self.h_weights = []\n",
    "        \n",
    "        self.initialize()\n",
    "    \n",
    "    def initialize(self):\n",
    "        \n",
    "        for i in range(self.t):\n",
    "            self.t_hash_h.append(init_hash())\n",
    "            self.t_hash_s.append(init_hash())\n",
    "            self.t_hash_s_bar.append(init_hash())\n",
    "            \n",
    "        for i in range(self.r):\n",
    "            self.r_hash_h.append(init_hash())\n",
    "        \n",
    "        for i in range(self.l):\n",
    "            self.l_hash_s_bar.append(init_hash())\n",
    "            \n",
    "        self.s_weights = np.arange(1, self.d+1)\n",
    "        np.random.shuffle(self.s_weights)\n",
    "        \n",
    "        self.s_bar_weights = np.arange(1, self.l+1)\n",
    "        np.random.shuffle(self.s_bar_weights)\n",
    "        \n",
    "        self.h_weights = np.arange(1, self.r+1)\n",
    "        np.random.shuffle(self.h_weights)"
   ]
  },
  {
   "cell_type": "code",
   "execution_count": 611,
   "metadata": {},
   "outputs": [],
   "source": [
    "def add_losc(params): \n",
    "    loSC_css = [[0]*params.b for i in range(params.t)]\n",
    "    loSC_sls = [[0]*params.b for i in range(params.t)]\n",
    "    \n",
    "    for item in dist2:\n",
    "        for i in range(params.t):\n",
    "            loSC_css[i][hash_value_h(item, params, i, False)] += hash_value_s(item, params, i)\n",
    "            loSC_sls[i][hash_value_h(item, params, i, False)] += hash_value_s_bar(item, params, i)\n",
    "            \n",
    "    return loSC_css, loSC_sls\n",
    "\n",
    "def estimate_losc(loSC_css, loSC_sls, query, params, verbose=False):\n",
    "    estimate_css = []\n",
    "    estimate_sls = []\n",
    "    for i in range(params.t):\n",
    "        estimate_css.append(loSC_css[i][hash_value_h(query, params, i, False)]*hash_value_s(query, params, i))\n",
    "        estimate_sls.append(loSC_sls[i][hash_value_h(query, params, i, False)]*hash_value_s_bar(query, params, i))\n",
    "\n",
    "    f_css = abs(np.median(estimate_css))\n",
    "    f_sls = abs(np.median(estimate_sls))\n",
    "    if verbose:\n",
    "        print(\"Estimated frequency using LoSC-CSS = {:f}\".format(f_css))\n",
    "        print(\"Estimated frequency using LoSC-SLS = {:f}\".format(f_sls))\n",
    "    return f_css, f_sls"
   ]
  },
  {
   "cell_type": "markdown",
   "metadata": {},
   "source": [
    "### Synthetic Data - Random Binary vectors "
   ]
  },
  {
   "cell_type": "code",
   "execution_count": 626,
   "metadata": {},
   "outputs": [],
   "source": [
    "dist2 = np.array([[1, 1, 1, 1, 0, 1, 1, 1, 0, 1, 1, 0, 1, 1, 1, 1, 1, 1, 0, 1],[1, 1, 1, 1, 0, 1, 1, 1, 0, 1, 1, 0, 1, 1, 1, 1, 1, 1, 0, 1],[1, 1, 1, 1, 0, 1, 1, 1, 0, 1, 1, 0, 1, 1, 1, 1, 1, 1, 0, 1],[1, 1, 1, 1, 0, 1, 1, 1, 0, 1, 1, 0, 1, 1, 1, 1, 1, 1, 0, 1],[1, 1, 1, 1, 0, 1, 1, 1, 0, 1, 1, 0, 1, 1, 1, 1, 1, 1, 0, 1],[1, 1, 1, 1, 0, 1, 1, 1, 0, 1, 1, 0, 1, 1, 1, 1, 1, 1, 0, 1],[1, 1, 1, 1, 0, 1, 1, 1, 0, 1, 1, 0, 1, 1, 1, 1, 1, 1, 0, 1],[1, 1, 1, 1, 0, 1, 1, 1, 0, 1, 1, 0, 1, 1, 1, 1, 1, 1, 0, 1],[1, 1, 1, 1, 0, 1, 1, 1, 0, 1, 1, 0, 1, 1, 1, 1, 1, 1, 0, 1],[1, 1, 1, 1, 0, 1, 1, 1, 0, 1, 1, 0, 1, 1, 1, 1, 1, 1, 0, 1],[1, 1, 1, 1, 0, 1, 1, 1, 0, 1, 1, 0, 1, 1, 1, 1, 1, 1, 0, 1],[1, 1, 1, 1, 0, 1, 1, 1, 0, 1, 1, 0, 1, 1, 1, 1, 1, 1, 0, 1],[1, 1, 1, 1, 0, 1, 1, 1, 0, 1, 1, 0, 1, 1, 1, 1, 1, 1, 0, 1],[1, 1, 1, 1, 0, 1, 1, 1, 0, 1, 1, 0, 1, 1, 1, 1, 1, 1, 0, 1],[1, 1, 0, 1, 0, 1, 1, 1, 0, 1, 1, 0, 1, 1, 1, 1, 1, 1, 0, 1],[1, 1, 0, 1, 0, 1, 1, 1, 0, 1, 1, 0, 1, 1, 1, 1, 1, 1, 0, 1],[1, 1, 0, 1, 0, 1, 1, 1, 0, 1, 1, 0, 1, 1, 1, 1, 1, 1, 0, 1],[1, 1, 0, 1, 0, 1, 1, 1, 0, 1, 1, 0, 1, 1, 1, 1, 1, 1, 0, 1],[1, 1, 0, 1, 0, 1, 1, 1, 0, 1, 1, 0, 1, 1, 1, 1, 1, 1, 0, 1],[1, 1, 0, 1, 0, 1, 1, 1, 0, 1, 1, 0, 1, 1, 1, 1, 1, 1, 0, 1],[1, 1, 0, 1, 0, 1, 1, 1, 0, 1, 1, 0, 1, 1, 1, 1, 1, 1, 0, 1],[1, 1, 0, 1, 0, 1, 1, 1, 0, 1, 1, 0, 1, 1, 1, 1, 1, 1, 0, 1],[1, 1, 0, 1, 0, 1, 1, 1, 0, 1, 1, 0, 1, 1, 1, 1, 1, 1, 0, 1],[1, 1, 0, 1, 0, 1, 1, 1, 0, 1, 1, 0, 1, 1, 1, 1, 1, 1, 0, 1],[1, 1, 0, 1, 0, 1, 1, 1, 0, 1, 1, 0, 1, 1, 1, 1, 1, 1, 0, 1],[1, 1, 0, 1, 0, 1, 1, 1, 0, 1, 1, 0, 1, 1, 1, 1, 1, 1, 0, 1],[1, 1, 0, 1, 0, 1, 1, 1, 0, 1, 1, 0, 1, 1, 1, 1, 1, 1, 0, 1],[1, 1, 0, 1, 0, 1, 1, 1, 0, 1, 1, 0, 1, 1, 1, 1, 1, 1, 0, 1],[1, 1, 0, 1, 0, 1, 1, 1, 0, 1, 1, 0, 1, 1, 1, 1, 1, 1, 0, 1],[1, 1, 0, 1, 0, 1, 1, 1, 0, 1, 1, 0, 1, 1, 1, 1, 1, 1, 0, 1],[0, 1, 1, 0, 0, 0, 0, 1, 0, 1, 0, 1, 1, 0, 0, 0, 0, 1, 0, 1],[0, 1, 1, 0, 0, 0, 0, 1, 0, 1, 0, 1, 1, 0, 0, 0, 0, 1, 0, 1],[0, 1, 1, 0, 0, 0, 0, 1, 0, 1, 0, 1, 1, 0, 0, 0, 0, 1, 0, 1],[0, 1, 1, 0, 0, 0, 0, 1, 0, 1, 0, 1, 1, 0, 0, 0, 0, 1, 0, 1],[0, 1, 1, 0, 0, 0, 0, 1, 0, 1, 0, 1, 1, 0, 0, 0, 0, 1, 0, 1],[0, 1, 1, 0, 0, 0, 0, 1, 0, 1, 0, 1, 1, 0, 0, 0, 0, 1, 0, 1],[0, 1, 1, 0, 0, 0, 0, 1, 0, 1, 0, 1, 1, 0, 0, 0, 0, 1, 0, 1],[0, 1, 1, 0, 0, 0, 0, 1, 0, 1, 0, 1, 1, 0, 0, 0, 0, 1, 0, 1],[0, 1, 1, 0, 0, 0, 0, 1, 0, 1, 0, 1, 1, 0, 0, 0, 0, 1, 0, 1],[0, 1, 1, 0, 0, 0, 0, 1, 0, 1, 0, 1, 1, 0, 0, 0, 0, 1, 0, 1],[0, 1, 1, 0, 0, 0, 0, 1, 0, 1, 0, 1, 1, 0, 0, 0, 0, 1, 0, 1],[0, 1, 1, 0, 0, 0, 0, 1, 0, 1, 0, 1, 1, 0, 0, 0, 0, 1, 0, 1],[0, 1, 1, 0, 0, 0, 0, 1, 0, 1, 0, 1, 1, 0, 0, 0, 0, 1, 0, 1],[0, 1, 1, 0, 0, 0, 0, 1, 0, 1, 0, 1, 1, 0, 0, 0, 0, 1, 0, 1],[0, 1, 1, 0, 0, 0, 0, 1, 0, 1, 0, 1, 1, 0, 0, 0, 0, 1, 0, 1],[0, 1, 1, 0, 0, 0, 0, 1, 0, 1, 0, 1, 1, 0, 0, 0, 0, 1, 0, 1],[0, 1, 1, 0, 0, 0, 0, 1, 0, 0, 0, 1, 1, 0, 0, 0, 0, 1, 0, 0],[0, 1, 1, 0, 0, 0, 0, 1, 0, 0, 0, 1, 1, 0, 0, 0, 0, 1, 0, 0],[0, 1, 1, 0, 0, 0, 0, 1, 0, 0, 0, 1, 1, 0, 0, 0, 0, 1, 0, 0],[0, 1, 1, 0, 0, 0, 0, 1, 0, 0, 0, 1, 1, 0, 0, 0, 0, 1, 0, 0],[0, 1, 1, 0, 0, 0, 0, 1, 0, 0, 0, 1, 1, 0, 0, 0, 0, 1, 0, 0],[0, 1, 1, 0, 0, 0, 0, 1, 0, 0, 0, 1, 1, 0, 0, 0, 0, 1, 0, 0],[0, 1, 1, 0, 0, 0, 0, 1, 0, 0, 0, 1, 1, 0, 0, 0, 0, 1, 0, 0],[0, 1, 1, 0, 0, 0, 0, 1, 0, 0, 0, 1, 1, 0, 0, 0, 0, 1, 0, 0],[0, 1, 1, 0, 0, 0, 0, 1, 0, 0, 0, 1, 1, 0, 0, 0, 0, 1, 0, 0],[0, 1, 1, 0, 0, 0, 0, 1, 0, 0, 0, 1, 1, 0, 0, 0, 0, 1, 0, 0],[0, 1, 1, 0, 0, 0, 0, 1, 0, 0, 0, 1, 1, 0, 0, 0, 0, 1, 0, 0],[0, 1, 1, 0, 0, 0, 0, 1, 0, 0, 0, 1, 1, 0, 0, 0, 0, 1, 0, 0],[0, 1, 1, 0, 0, 0, 0, 1, 0, 0, 0, 1, 1, 0, 0, 0, 0, 1, 0, 0],[0, 1, 1, 0, 0, 0, 0, 1, 0, 0, 0, 1, 1, 0, 0, 0, 0, 1, 0, 0],[0, 1, 1, 0, 0, 0, 0, 1, 0, 0, 0, 1, 1, 0, 0, 0, 0, 1, 0, 0],[0, 1, 1, 0, 0, 0, 0, 1, 0, 0, 0, 1, 1, 0, 0, 0, 0, 1, 0, 0]]\n",
    ")\n",
    "\n",
    "# there are 4 different items\n",
    "\n",
    "# close group with 15/16 entries of 1s matching \n",
    "# [1, 1, 1, 1, 0, 1, 1, 1, 0, 1, 1, 0, 1, 1, 1, 1, 1, 1, 0, 1]  14 copies\n",
    "# [1, 1, 0, 1, 0, 1, 1, 1, 0, 1, 1, 0, 1, 1, 1, 1, 1, 1, 0, 1]  16 copies\n",
    "\n",
    "# close group with 6/8 entries of 1s matching\n",
    "# [0, 1, 1, 0, 0, 0, 0, 1, 0, 1, 0, 1, 1, 0, 0, 0, 0, 1, 0, 1]  16 copies\n",
    "# [0, 1, 1, 0, 0, 0, 0, 1, 0, 0, 0, 1, 1, 0, 0, 0, 0, 1, 0, 0]  16 copies"
   ]
  },
  {
   "cell_type": "code",
   "execution_count": 614,
   "metadata": {},
   "outputs": [],
   "source": [
    "np.random.shuffle(dist2)"
   ]
  },
  {
   "cell_type": "code",
   "execution_count": 623,
   "metadata": {},
   "outputs": [],
   "source": [
    "params = LoSCParams(t=10, b=15, r=3, l=3, d=len(dist2[0]))\n",
    "loSC_css, loSC_sls = add_losc(params)"
   ]
  },
  {
   "cell_type": "markdown",
   "metadata": {},
   "source": [
    "##### Estimating frequency of seen item"
   ]
  },
  {
   "cell_type": "code",
   "execution_count": 624,
   "metadata": {},
   "outputs": [
    {
     "name": "stdout",
     "output_type": "stream",
     "text": [
      "Estimated frequency using LoSC-CSS = 2.000000\n",
      "Estimated frequency using LoSC-SLS = 30.000000\n"
     ]
    },
    {
     "data": {
      "text/plain": [
       "(2.0, 30.0)"
      ]
     },
     "execution_count": 624,
     "metadata": {},
     "output_type": "execute_result"
    }
   ],
   "source": [
    "query = np.array([1, 1, 1, 1, 0, 1, 1, 1, 0, 1, 1, 0, 1, 1, 1, 1, 1, 1, 0, 1])\n",
    "estimate_losc(loSC_css, loSC_sls, query, params, verbose=True)"
   ]
  },
  {
   "cell_type": "markdown",
   "metadata": {},
   "source": [
    "##### Estimating frequency of unseen item"
   ]
  },
  {
   "cell_type": "code",
   "execution_count": 625,
   "metadata": {},
   "outputs": [
    {
     "name": "stdout",
     "output_type": "stream",
     "text": [
      "Estimated frequency using LoSC-CSS = 2.000000\n",
      "Estimated frequency using LoSC-SLS = 30.000000\n"
     ]
    },
    {
     "data": {
      "text/plain": [
       "(2.0, 30.0)"
      ]
     },
     "execution_count": 625,
     "metadata": {},
     "output_type": "execute_result"
    }
   ],
   "source": [
    "# a close item to [1, 1, 1, 1, 0, 1, 1, 1, 0, 1, 1, 0, 1, 1, 1, 1, 1, 1, 0, 1]\n",
    "query = np.array([1, 1, 1, 1, 0, 1, 1, 1, 0, 1, 1, 0, 1, 1, 1, 1, 1, 1, 1, 1]) \n",
    "estimate_losc(loSC_css, loSC_sls, query, params, verbose=True)"
   ]
  },
  {
   "cell_type": "markdown",
   "metadata": {},
   "source": [
    "Our LoSC-CSS approach has an LSH based implementation for the h function and since our sign function s is still a uniformly random function, the first 2 group of items end up with random sign (here opposite) and hence the final estimate is 2. \n",
    "\n",
    "However, for our LoSC-SLS implementation, since our sign function, s_bar, is an LSH based function which ends up mapping the first two group of items to the same sign and hence the final estimate is 30."
   ]
  },
  {
   "cell_type": "code",
   "execution_count": null,
   "metadata": {},
   "outputs": [],
   "source": []
  }
 ],
 "metadata": {
  "kernelspec": {
   "display_name": "Python 3",
   "language": "python",
   "name": "python3"
  },
  "language_info": {
   "codemirror_mode": {
    "name": "ipython",
    "version": 3
   },
   "file_extension": ".py",
   "mimetype": "text/x-python",
   "name": "python",
   "nbconvert_exporter": "python",
   "pygments_lexer": "ipython3",
   "version": "3.6.8"
  }
 },
 "nbformat": 4,
 "nbformat_minor": 2
}
